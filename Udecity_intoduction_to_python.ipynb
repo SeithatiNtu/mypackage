{
  "nbformat": 4,
  "nbformat_minor": 0,
  "metadata": {
    "colab": {
      "name": "Udecity intoduction to python.ipynb",
      "provenance": [],
      "authorship_tag": "ABX9TyNyGVogQtyF6/Xf3k1sp5k6",
      "include_colab_link": true
    },
    "kernelspec": {
      "name": "python3",
      "display_name": "Python 3"
    },
    "language_info": {
      "name": "python"
    }
  },
  "cells": [
    {
      "cell_type": "markdown",
      "metadata": {
        "id": "view-in-github",
        "colab_type": "text"
      },
      "source": [
        "<a href=\"https://colab.research.google.com/github/SeithatiNtu/mypackage/blob/master/Udecity_intoduction_to_python.ipynb\" target=\"_parent\"><img src=\"https://colab.research.google.com/assets/colab-badge.svg\" alt=\"Open In Colab\"/></a>"
      ]
    },
    {
      "cell_type": "markdown",
      "metadata": {
        "id": "72xiLDHthRJ9"
      },
      "source": [
        "#Quiz: Average Electricity Bill\n",
        "\n",
        "It's time to try a calculation in Python!\n",
        "\n",
        "My electricity bills for the last three months have been $23, $32 and $64. What is the average monthly electricity bill over the three month period? Write an expression to calculate the mean, and use print() to view the result.\n"
      ]
    },
    {
      "cell_type": "code",
      "metadata": {
        "colab": {
          "base_uri": "https://localhost:8080/"
        },
        "id": "GPjmqBXuhbHk",
        "outputId": "17909050-44db-423a-f357-c78058bcb7ed"
      },
      "source": [
        "# Write an expression that calculates the average of 23, 32 and 64\n",
        "# Place the expression in this print statement\n",
        "mean = (23+32+64)/3\n",
        "print(mean)"
      ],
      "execution_count": 1,
      "outputs": [
        {
          "output_type": "stream",
          "text": [
            "39.666666666666664\n"
          ],
          "name": "stdout"
        }
      ]
    },
    {
      "cell_type": "markdown",
      "metadata": {
        "id": "N_H0iP3whldz"
      },
      "source": [
        "#Quiz2: Assign and Modify Variables\n",
        "\n",
        "Now it's your turn to work with variables. The comments in this quiz (the lines that begin with #) have instructions for creating and modifying variables. After each comment write a line of code that implements the instruction.\n",
        "\n",
        "Note that this code uses scientific notation to define large numbers. 4.445e8 is equal to 4.445 * 10 ** 8 which is equal to 444500000.0.\n"
      ]
    },
    {
      "cell_type": "code",
      "metadata": {
        "colab": {
          "base_uri": "https://localhost:8080/"
        },
        "id": "zURMIOShhhW0",
        "outputId": "1449933d-7ac0-44eb-9619-6ff54779a2cc"
      },
      "source": [
        "# The current volume of a water reservoir (in cubic metres)\n",
        "reservoir_volume = 4.445e8\n",
        "# The amount of rainfall from a storm (in cubic metres)\n",
        "rainfall = 5e6\n",
        "\n",
        "# decrease the rainfall variable by 10% to account for runoff\n",
        "rainfall *= 0.90\n",
        "\n",
        "# add the rainfall variable to the reservoir_volume variable\n",
        "reservoir_volume += rainfall\n",
        "\n",
        "# increase reservoir_volume by 5% to account for stormwater that flows\n",
        "# into the reservoir in the days following the storm\n",
        "reservoir_volume *= 1.05\n",
        "\n",
        "# decrease reservoir_volume by 5% to account for evaporation\n",
        "reservoir_volume *= 0.95\n",
        "\n",
        "# subtract 2.5e5 cubic metres from reservoir_volume to account for water\n",
        "# that's piped to arid regions.\n",
        "reservoir_volume -= 2.5 * 10 ** 5\n",
        "\n",
        "# print the new value of the reservoir_volume variable\n",
        "print(reservoir_volume)"
      ],
      "execution_count": 2,
      "outputs": [
        {
          "output_type": "stream",
          "text": [
            "447627500.0\n"
          ],
          "name": "stdout"
        }
      ]
    },
    {
      "cell_type": "markdown",
      "metadata": {
        "id": "oavlZvA7h5cV"
      },
      "source": [
        "#Quiz 3: Which is denser, Rio or San Francisco?\n",
        "\n",
        "Try comparison operators in this quiz! This code calculates the population densities of Rio de Janeiro and San Francisco.\n",
        "\n",
        "Write code to compare these densities. Is the population of San Francisco more dense than that of Rio de Janeiro? Print True if it is and False if not.\n"
      ]
    },
    {
      "cell_type": "code",
      "metadata": {
        "colab": {
          "base_uri": "https://localhost:8080/"
        },
        "id": "XSWmqt2ghxBO",
        "outputId": "8e2b1431-4e90-4b0f-bd18-7b1083fedcc4"
      },
      "source": [
        "sf_population, sf_area = 864816, 231.89\n",
        "rio_population, rio_area = 6453682, 486.5\n",
        "\n",
        "san_francisco_pop_density = sf_population/sf_area\n",
        "rio_de_janeiro_pop_density = rio_population/rio_area\n",
        "\n",
        "# Write code that prints True if San Francisco is denser than Rio, and False otherwise\n",
        "print(san_francisco_pop_density > rio_de_janeiro_pop_density)"
      ],
      "execution_count": 3,
      "outputs": [
        {
          "output_type": "stream",
          "text": [
            "False\n"
          ],
          "name": "stdout"
        }
      ]
    },
    {
      "cell_type": "markdown",
      "metadata": {
        "id": "p2CQFlxQiEAo"
      },
      "source": [
        "#Quiz: Fix the Quote\n",
        "\n",
        "The line of code in the following quiz will cause a SyntaxError, thanks to the misuse of quotation marks. First run it with Test Run to view the error message. Then resolve the problem so that the quote (from Henry Ford) is correctly assigned to the variable ford_quote.\n"
      ]
    },
    {
      "cell_type": "code",
      "metadata": {
        "colab": {
          "base_uri": "https://localhost:8080/"
        },
        "id": "00oIZBsxh_Wk",
        "outputId": "ddae29af-63fe-45be-98d4-2799f75c5e86"
      },
      "source": [
        "# TODO: Fix this string!\n",
        "ford_quote = \"Whether you think you can, or you think you can't--you're right.\"\n",
        "print(ford_quote)"
      ],
      "execution_count": 4,
      "outputs": [
        {
          "output_type": "stream",
          "text": [
            "Whether you think you can, or you think you can't--you're right.\n"
          ],
          "name": "stdout"
        }
      ]
    },
    {
      "cell_type": "markdown",
      "metadata": {
        "id": "uTQfIVh7iXQG"
      },
      "source": [
        "We’ve already seen that the type of objects will affect how operators work on them. What will be the output of this code?"
      ]
    },
    {
      "cell_type": "code",
      "metadata": {
        "colab": {
          "base_uri": "https://localhost:8080/"
        },
        "id": "GCS1auXQiJh8",
        "outputId": "ca69454c-60ec-47a1-bca8-21e75533efa5"
      },
      "source": [
        "coconut_count = \"34\"\n",
        "mango_count = \"15\"\n",
        "tropical_fruit_count = coconut_count + mango_count\n",
        "print(tropical_fruit_count)\n"
      ],
      "execution_count": 5,
      "outputs": [
        {
          "output_type": "stream",
          "text": [
            "3415\n"
          ],
          "name": "stdout"
        }
      ]
    },
    {
      "cell_type": "markdown",
      "metadata": {
        "id": "pFx80nwDildI"
      },
      "source": [
        "#Quiz 4: Write a Server Log Message\n",
        "\n",
        "In this programming quiz, you’re going to use what you’ve learned about strings to write a logging message for a server.\n",
        "\n",
        "You’ll be provided with example data for a user, the time of their visit and the site they accessed. You should use the variables provided and the techniques you’ve learned to print a log message like this one (with the username, url, and timestamp replaced with values from the appropriate variables):\n",
        "\n",
        "Yogesh accessed the site http://petshop.com/pets/reptiles/pythons at 16:20.\n",
        "\n",
        "Use the Test Run button to see your results as you work on coding this piece by piece.\n"
      ]
    },
    {
      "cell_type": "code",
      "metadata": {
        "colab": {
          "base_uri": "https://localhost:8080/"
        },
        "id": "K2RkHkMdiQ_G",
        "outputId": "5711e9a1-2ffa-4af6-f4aa-22ea1fa11f75"
      },
      "source": [
        "username = \"Kinari\"\n",
        "timestamp = \"04:50\"\n",
        "url = \"http://petshop.com/pets/mammals/cats\"\n",
        "\n",
        "# TODO: print a log message using the variables above.\n",
        "# The message should have the same format as this one:\n",
        "# \"Yogesh accessed the site http://petshop.com/pets/reptiles/pythons at 16:20.\"\n",
        "\n",
        "print(username + \" accessed the site \" + url + \" at \" + timestamp + \".\")\n"
      ],
      "execution_count": 7,
      "outputs": [
        {
          "output_type": "stream",
          "text": [
            "Kinari accessed the site http://petshop.com/pets/mammals/cats at 04:50.\n"
          ],
          "name": "stdout"
        }
      ]
    },
    {
      "cell_type": "code",
      "metadata": {
        "id": "Hd_v40T_j4U9"
      },
      "source": [
        ""
      ],
      "execution_count": null,
      "outputs": []
    },
    {
      "cell_type": "markdown",
      "metadata": {
        "id": "-LQlYRt0kr_o"
      },
      "source": [
        "#Quiz: len()\n",
        "\n",
        "Use string concatenation and the len() function to find the length of a certain movie star's actual full name. Store that length in the name_length variable. Don't forget that there are spaces in between the different parts of a name!\n"
      ]
    },
    {
      "cell_type": "code",
      "metadata": {
        "colab": {
          "base_uri": "https://localhost:8080/"
        },
        "id": "HUHYfFNIkuPe",
        "outputId": "d222eb29-3554-4ac9-957c-e256e84ad120"
      },
      "source": [
        "given_name = \"Charlotte\"\n",
        "middle_names = \"Hippopotamus\"\n",
        "family_name = \"Turner\"\n",
        "\n",
        "name_length = len(given_name + middle_names + family_name) + 2 #todo: calculate how long this name is\n",
        "print(name_length)\n",
        "driving_licence_character_limit = 28\n",
        "print(name_length <= driving_licence_character_limit)"
      ],
      "execution_count": 8,
      "outputs": [
        {
          "output_type": "stream",
          "text": [
            "29\n",
            "False\n"
          ],
          "name": "stdout"
        }
      ]
    },
    {
      "cell_type": "code",
      "metadata": {
        "colab": {
          "base_uri": "https://localhost:8080/"
        },
        "id": "Tbhlovfmlpqb",
        "outputId": "e93ce303-2b8c-49a9-bfdb-125c584cb290"
      },
      "source": [
        "len('385')"
      ],
      "execution_count": 10,
      "outputs": [
        {
          "output_type": "execute_result",
          "data": {
            "text/plain": [
              "3"
            ]
          },
          "metadata": {
            "tags": []
          },
          "execution_count": 10
        }
      ]
    },
    {
      "cell_type": "code",
      "metadata": {
        "colab": {
          "base_uri": "https://localhost:8080/",
          "height": 35
        },
        "id": "XM9-iK-Xkyln",
        "outputId": "9eafabe8-56b0-43c5-c147-c7e0e834497c"
      },
      "source": [
        "\"hippo\" *12"
      ],
      "execution_count": 11,
      "outputs": [
        {
          "output_type": "execute_result",
          "data": {
            "application/vnd.google.colaboratory.intrinsic+json": {
              "type": "string"
            },
            "text/plain": [
              "'hippohippohippohippohippohippohippohippohippohippohippohippo'"
            ]
          },
          "metadata": {
            "tags": []
          },
          "execution_count": 11
        }
      ]
    },
    {
      "cell_type": "code",
      "metadata": {
        "colab": {
          "base_uri": "https://localhost:8080/"
        },
        "id": "kjnBTR65m3K1",
        "outputId": "53d5f052-0408-4614-fd17-5ad045333b19"
      },
      "source": [
        "type(\"hippo\" *12)"
      ],
      "execution_count": 12,
      "outputs": [
        {
          "output_type": "execute_result",
          "data": {
            "text/plain": [
              "str"
            ]
          },
          "metadata": {
            "tags": []
          },
          "execution_count": 12
        }
      ]
    },
    {
      "cell_type": "code",
      "metadata": {
        "colab": {
          "base_uri": "https://localhost:8080/"
        },
        "id": "9_m7xcTBm7b0",
        "outputId": "551cac5c-3efc-48b1-f0ab-177a3f77b709"
      },
      "source": [
        "type( len(\"my_string\"))"
      ],
      "execution_count": 13,
      "outputs": [
        {
          "output_type": "execute_result",
          "data": {
            "text/plain": [
              "int"
            ]
          },
          "metadata": {
            "tags": []
          },
          "execution_count": 13
        }
      ]
    },
    {
      "cell_type": "markdown",
      "metadata": {
        "id": "v51Hu5tDnlRa"
      },
      "source": [
        "#Quiz: Total Sales\n",
        "\n",
        "In this quiz, you’ll need to change the types of the input and output data in order to get the result you want.\n",
        "\n",
        "Calculate and print the total sales for the week from the data provided. Print out a string of the form \"This week's total sales: xxx\", where xxx will be the actual total of all the numbers. You’ll need to change the type of the input data in order to calculate that total.\n"
      ]
    },
    {
      "cell_type": "code",
      "metadata": {
        "colab": {
          "base_uri": "https://localhost:8080/"
        },
        "id": "Avd3xCUYnBsX",
        "outputId": "ab2cc768-c725-4393-e9f5-c769522fc921"
      },
      "source": [
        "mon_sales = \"121\"\n",
        "tues_sales = \"105\"\n",
        "wed_sales = \"110\"\n",
        "thurs_sales = \"98\"\n",
        "fri_sales = \"95\"\n",
        "\n",
        "#TODO: Print a string with this format: This week's total sales: xxx\n",
        "# You will probably need to write some lines of code before the print statement.\n",
        "weekly_sales = int(mon_sales) + int(tues_sales) + int(wed_sales) + int(thurs_sales) + int(fri_sales)\n",
        "weekly_sales = str(weekly_sales) # don't forget convert back to str type\n",
        "print(\"This week's total sales: \" + weekly_sales)"
      ],
      "execution_count": 14,
      "outputs": [
        {
          "output_type": "stream",
          "text": [
            "This week's total sales: 529\n"
          ],
          "name": "stdout"
        }
      ]
    },
    {
      "cell_type": "markdown",
      "metadata": {
        "id": "dhvRh767qM-b"
      },
      "source": [
        "What happens when you call a string method like islower() on a float object? For example, 13.37.islower().\n",
        "\n",
        "There is a playground workspace further down this page that you can use to experiment.\n"
      ]
    },
    {
      "cell_type": "code",
      "metadata": {
        "colab": {
          "base_uri": "https://localhost:8080/",
          "height": 167
        },
        "id": "lWrAjbqBoVhq",
        "outputId": "2ffb4cdd-efdd-45f1-e404-e22d2640f124"
      },
      "source": [
        "13.37.islower()"
      ],
      "execution_count": 15,
      "outputs": [
        {
          "output_type": "error",
          "ename": "AttributeError",
          "evalue": "ignored",
          "traceback": [
            "\u001b[0;31m---------------------------------------------------------------------------\u001b[0m",
            "\u001b[0;31mAttributeError\u001b[0m                            Traceback (most recent call last)",
            "\u001b[0;32m<ipython-input-15-157cf8c6126d>\u001b[0m in \u001b[0;36m<module>\u001b[0;34m()\u001b[0m\n\u001b[0;32m----> 1\u001b[0;31m \u001b[0;36m13.37\u001b[0m\u001b[0;34m.\u001b[0m\u001b[0mislower\u001b[0m\u001b[0;34m(\u001b[0m\u001b[0;34m)\u001b[0m\u001b[0;34m\u001b[0m\u001b[0;34m\u001b[0m\u001b[0m\n\u001b[0m",
            "\u001b[0;31mAttributeError\u001b[0m: 'float' object has no attribute 'islower'"
          ]
        }
      ]
    },
    {
      "cell_type": "markdown",
      "metadata": {
        "id": "nAbp3pnVseZA"
      },
      "source": [
        "#Quiz: String Methods Coding Practice\n",
        "\n",
        "Below, we have a string variable that contains the first verse of the poem, If by Rudyard Kipling. Remember, \\n is a special sequence of characters that causes a line break (a new line).\n",
        "\n",
        "Use the code editor below to answer the following questions about verse and use Test Run to check your output in the quiz at the bottom of this page.\n",
        "\n",
        "    What is the length of the string variable verse?\n",
        "    What is the index of the first occurrence of the word 'and' in verse?\n",
        "    What is the index of the last occurrence of the word 'you' in verse?\n",
        "    What is the count of occurrences of the word 'you' in the verse?\n",
        "\n",
        "You will need to refer to Python's string methods documentation."
      ]
    },
    {
      "cell_type": "code",
      "metadata": {
        "colab": {
          "base_uri": "https://localhost:8080/"
        },
        "id": "NwrgE25vsSx-",
        "outputId": "a305914f-64e6-48de-e92f-43a6b32e9f72"
      },
      "source": [
        "verse = \"If you can keep your head when all about you\\n  Are losing theirs and blaming it on you,\\nIf you can trust yourself when all men doubt you,\\n  But make allowance for their doubting too;\\nIf you can wait and not be tired by waiting,\\n  Or being lied about, don’t deal in lies,\\nOr being hated, don’t give way to hating,\\n  And yet don’t look too good, nor talk too wise:\"\n",
        "print(verse)\n",
        "\n",
        "# Use the appropriate functions and methods to answer the questions above\n",
        "# Bonus: practice using .format() to output your answers in descriptive messages!\n",
        "print(len(verse))\n",
        "print(verse.index('and'))\n",
        "print(verse.rfind('you'))\n",
        "print(verse.count('you'))\n",
        "print(verse.format())"
      ],
      "execution_count": 20,
      "outputs": [
        {
          "output_type": "stream",
          "text": [
            "If you can keep your head when all about you\n",
            "  Are losing theirs and blaming it on you,\n",
            "If you can trust yourself when all men doubt you,\n",
            "  But make allowance for their doubting too;\n",
            "If you can wait and not be tired by waiting,\n",
            "  Or being lied about, don’t deal in lies,\n",
            "Or being hated, don’t give way to hating,\n",
            "  And yet don’t look too good, nor talk too wise:\n",
            "362\n",
            "65\n",
            "186\n",
            "8\n",
            "If you can keep your head when all about you\n",
            "  Are losing theirs and blaming it on you,\n",
            "If you can trust yourself when all men doubt you,\n",
            "  But make allowance for their doubting too;\n",
            "If you can wait and not be tired by waiting,\n",
            "  Or being lied about, don’t deal in lies,\n",
            "Or being hated, don’t give way to hating,\n",
            "  And yet don’t look too good, nor talk too wise:\n"
          ],
          "name": "stdout"
        }
      ]
    },
    {
      "cell_type": "code",
      "metadata": {
        "id": "NCf7UFidu8qN"
      },
      "source": [
        ""
      ],
      "execution_count": null,
      "outputs": []
    }
  ]
}